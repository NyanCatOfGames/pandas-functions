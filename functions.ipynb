{
 "cells": [
  {
   "cell_type": "code",
   "execution_count": 1,
   "metadata": {},
   "outputs": [],
   "source": [
    "import pandas as pd"
   ]
  },
  {
   "cell_type": "code",
   "execution_count": 2,
   "metadata": {},
   "outputs": [],
   "source": [
    "add = lambda value: value+10"
   ]
  },
  {
   "cell_type": "code",
   "execution_count": 4,
   "metadata": {},
   "outputs": [],
   "source": [
    "data = {\"A\": [5, 1, 3], \n",
    "        \"B\": [8, 5, 2], \n",
    "        \"C\": [3, 4, 1]}\n",
    "\n",
    "df = pd.DataFrame(data)"
   ]
  },
  {
   "cell_type": "code",
   "execution_count": 16,
   "metadata": {},
   "outputs": [
    {
     "name": "stdout",
     "output_type": "stream",
     "text": [
      "    A   B   C\n",
      "0  15  18  13\n",
      "1  11  15  14\n",
      "2  13  12  11\n"
     ]
    }
   ],
   "source": [
    "x = df.apply(add)\n",
    "print(x)"
   ]
  },
  {
   "cell_type": "code",
   "execution_count": 10,
   "metadata": {},
   "outputs": [],
   "source": [
    "uppercase = lambda value: value.upper()"
   ]
  },
  {
   "cell_type": "code",
   "execution_count": 11,
   "metadata": {},
   "outputs": [],
   "source": [
    "data2 = {\"Name\": [\"Sally\", \"Mary\", \"John\"],\n",
    "         \"City\": [\"London\", \"Tokyo\", \"Madrid\"]}\n",
    "\n",
    "df2 = pd.DataFrame(data2)"
   ]
  },
  {
   "cell_type": "code",
   "execution_count": 12,
   "metadata": {},
   "outputs": [
    {
     "name": "stdout",
     "output_type": "stream",
     "text": [
      "    Name    City\n",
      "0  SALLY  LONDON\n",
      "1   MARY   TOKYO\n",
      "2   JOHN  MADRID\n"
     ]
    }
   ],
   "source": [
    "x2 = df2.applymap(uppercase)\n",
    "print(x2)"
   ]
  },
  {
   "cell_type": "code",
   "execution_count": 108,
   "metadata": {},
   "outputs": [],
   "source": [
    "lowercase = lambda value: value.lower()"
   ]
  },
  {
   "cell_type": "code",
   "execution_count": 109,
   "metadata": {},
   "outputs": [
    {
     "ename": "SyntaxError",
     "evalue": "expected ':' (3967010183.py, line 8)",
     "output_type": "error",
     "traceback": [
      "\u001b[1;36m  Cell \u001b[1;32mIn[109], line 8\u001b[1;36m\u001b[0m\n\u001b[1;33m    for k in range()\u001b[0m\n\u001b[1;37m                    ^\u001b[0m\n\u001b[1;31mSyntaxError\u001b[0m\u001b[1;31m:\u001b[0m expected ':'\n"
     ]
    }
   ],
   "source": [
    "a = [\"Hello World\", \"Jack William\"]\n",
    "\n",
    "for i in a:\n",
    "    abc = i.split(\" \")\n",
    "    for j in abc:\n",
    "        j.lower()\n",
    "        \n",
    "        for k in range()\n"
   ]
  },
  {
   "cell_type": "code",
   "execution_count": 110,
   "metadata": {},
   "outputs": [],
   "source": [
    "def capitalise_words(values):\n",
    "    values_list = []\n",
    "    for i in values:\n",
    "        values_list.append(i)\n",
    "    values_capitalised = []\n",
    "    for i in values_list:\n",
    "        words = i.split(\" \")\n",
    "        for j in range(len(words)):\n",
    "            words[j] = words[j].capitalize()\n",
    "\n",
    "        value = \" \".join(words)\n",
    "        values_capitalised.append(value)\n",
    "    values = values_capitalised[:]\n",
    "    return values\n"
   ]
  },
  {
   "cell_type": "code",
   "execution_count": 117,
   "metadata": {},
   "outputs": [
    {
     "name": "stdout",
     "output_type": "stream",
     "text": [
      "  Sr. no. Roll. no           Name            mail Id       City\n",
      "0       1      121  Jack Williams     jack@gmail.com       Pune\n",
      "1       2      122      NITA MODI     NITA@gmail.com     MUMBAI\n",
      "2       3      123      Tina dabi     tina@gmail.com      Delhi\n",
      "3       4      124  Srushti Pawar  SRUSHTI@gmail.com  BANGALORE\n",
      "4       5      125     MARTIN DEN   martin@gmail.com  HYDERABAD\n"
     ]
    }
   ],
   "source": [
    "data3 = {\"Sr. no.\": [\"1\", \"2\", \"3\", \"4\", \"5\"], \n",
    "         \"Roll. no\": [\"121\", \"122\", \"123\", \"124\", \"125\"], \n",
    "         \"Name\": [\"Jack Williams\", \"NITA MODI\", \"Tina dabi\", \"Srushti Pawar\", \"MARTIN DEN\"], \n",
    "         \"mail Id\": [\"jack@gmail.com\", \"NITA@gmail.com\", \"tina@gmail.com\", \"SRUSHTI@gmail.com\", \"martin@gmail.com\"], \n",
    "         \"City\": [\"Pune\", \"MUMBAI\", \"Delhi\", \"BANGALORE\", \"HYDERABAD\"]}\n",
    "\n",
    "df3 = pd.DataFrame(data3)\n",
    "print(df3)"
   ]
  },
  {
   "cell_type": "code",
   "execution_count": 118,
   "metadata": {},
   "outputs": [
    {
     "name": "stdout",
     "output_type": "stream",
     "text": [
      "  Sr. no. Roll. no           Name            mail Id       City\n",
      "0       1      121  Jack Williams     jack@gmail.com       Pune\n",
      "1       2      122      Nita Modi     nita@gmail.com     Mumbai\n",
      "2       3      123      Tina Dabi     tina@gmail.com      Delhi\n",
      "3       4      124  Srushti Pawar  srushti@gmail.com  Bangalore\n",
      "4       5      125     Martin Den   martin@gmail.com  Hyderabad\n"
     ]
    }
   ],
   "source": [
    "df3[\"Name\"] = capitalise_words(df3[\"Name\"])\n",
    "df3[\"City\"] = capitalise_words(df3[\"City\"])\n",
    "df3[\"mail Id\"] = df3[\"mail Id\"].apply(lowercase)\n",
    "print(df3)"
   ]
  },
  {
   "cell_type": "code",
   "execution_count": 52,
   "metadata": {},
   "outputs": [
    {
     "name": "stdout",
     "output_type": "stream",
     "text": [
      "<class 'pandas.core.series.Series'>\n"
     ]
    }
   ],
   "source": [
    "print(type(df3[\"Name\"]))"
   ]
  },
  {
   "cell_type": "code",
   "execution_count": 103,
   "metadata": {},
   "outputs": [],
   "source": [
    "\n",
    "\n"
   ]
  }
 ],
 "metadata": {
  "kernelspec": {
   "display_name": "Python 3",
   "language": "python",
   "name": "python3"
  },
  "language_info": {
   "codemirror_mode": {
    "name": "ipython",
    "version": 3
   },
   "file_extension": ".py",
   "mimetype": "text/x-python",
   "name": "python",
   "nbconvert_exporter": "python",
   "pygments_lexer": "ipython3",
   "version": "3.10.1"
  },
  "orig_nbformat": 4
 },
 "nbformat": 4,
 "nbformat_minor": 2
}
